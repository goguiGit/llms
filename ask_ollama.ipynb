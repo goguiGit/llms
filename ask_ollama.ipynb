{
 "cells": [
  {
   "cell_type": "markdown",
   "id": "940a2648-01ca-469e-b338-92192fab6a44",
   "metadata": {},
   "source": [
    "# ask_ollama: La función que toma una pregunta del usuario, la envía a Ollama y obtiene la respuesta.\n",
    "\n",
    "## Gradio Interface: Usamos Gradio para crear una interfaz web:\n",
    "\n",
    "Un cuadro de texto (gr.Textbox) para que el usuario ingrese la pregunta.\n",
    "\n",
    "Otro cuadro de texto para mostrar la respuesta.\n",
    "\n",
    "live=False para que la respuesta se genere cuando se presione el botón.\n",
    "\n",
    "iface.launch(): Esto inicia el servidor web de Gradio en tu navegador."
   ]
  },
  {
   "cell_type": "code",
   "execution_count": 1,
   "id": "7f57fc7f-5053-4f32-bf1a-4a707d7be40b",
   "metadata": {},
   "outputs": [
    {
     "name": "stdout",
     "output_type": "stream",
     "text": [
      "* Running on local URL:  http://127.0.0.1:7861\n",
      "\n",
      "To create a public link, set `share=True` in `launch()`.\n"
     ]
    },
    {
     "data": {
      "text/html": [
       "<div><iframe src=\"http://127.0.0.1:7861/\" width=\"100%\" height=\"500\" allow=\"autoplay; camera; microphone; clipboard-read; clipboard-write;\" frameborder=\"0\" allowfullscreen></iframe></div>"
      ],
      "text/plain": [
       "<IPython.core.display.HTML object>"
      ]
     },
     "metadata": {},
     "output_type": "display_data"
    },
    {
     "data": {
      "text/plain": []
     },
     "execution_count": 1,
     "metadata": {},
     "output_type": "execute_result"
    }
   ],
   "source": [
    "import gradio as gr\n",
    "import ollama\n",
    "\n",
    "# Cargar el modelo de Ollama (puedes ajustar el modelo aquí)\n",
    "MODEL_LLAMA = 'llama3.2'\n",
    "\n",
    "def ask_ollama(question):\n",
    "    \"\"\"Función para preguntar a Ollama y obtener la respuesta\"\"\"\n",
    "    system_prompt = \"You are a helpful assistant who answers questions about any topic.\"\n",
    "    user_prompt = f\"Please answer the following question: {question}\"\n",
    "\n",
    "    messages = [\n",
    "        {\"role\": \"system\", \"content\": system_prompt},\n",
    "        {\"role\": \"user\", \"content\": user_prompt}\n",
    "    ]\n",
    "    \n",
    "    response = ollama.chat(model=MODEL_LLAMA, messages=messages)\n",
    "    return response['message']['content']\n",
    "\n",
    "# Crear la interfaz de Gradio\n",
    "iface = gr.Interface(\n",
    "    fn=ask_ollama,  # La función que maneja las preguntas\n",
    "    inputs=gr.Textbox(label=\"Pregunta\", placeholder=\"Escribe tu pregunta aquí...\"),  # Input para la pregunta\n",
    "    outputs=gr.Textbox(label=\"Respuesta\"),  # Output para la respuesta\n",
    "    live=False  # Establecemos live=False para que la respuesta se genere solo cuando se haga clic en el botón\n",
    ")\n",
    "\n",
    "# Lanzar la interfaz web\n",
    "iface.launch()\n"
   ]
  }
 ],
 "metadata": {
  "kernelspec": {
   "display_name": "Python 3 (ipykernel)",
   "language": "python",
   "name": "python3"
  },
  "language_info": {
   "codemirror_mode": {
    "name": "ipython",
    "version": 3
   },
   "file_extension": ".py",
   "mimetype": "text/x-python",
   "name": "python",
   "nbconvert_exporter": "python",
   "pygments_lexer": "ipython3",
   "version": "3.11.11"
  }
 },
 "nbformat": 4,
 "nbformat_minor": 5
}
