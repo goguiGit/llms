{
 "cells": [
  {
   "cell_type": "code",
   "execution_count": 14,
   "id": "e3e61bfc-be13-4325-baad-e77d6db43edf",
   "metadata": {},
   "outputs": [],
   "source": [
    "import os\n",
    "import openai\n",
    "import requests\n",
    "from dotenv import load_dotenv\n",
    "\n",
    "load_dotenv(override=True)\n",
    "api_key = os.getenv('OPENAI_API_KEY')\n",
    "api_endpoint = os.getenv('OPENAI_ENDPOINT')\n",
    "api_deploymentName = os.getenv('OPENAI_DEPLOYMENTNAME')"
   ]
  },
  {
   "cell_type": "code",
   "execution_count": 15,
   "id": "097af449-a530-4c62-93b1-af4de2c40dc5",
   "metadata": {},
   "outputs": [],
   "source": [
    "\n",
    "client = openai.AzureOpenAI(\n",
    "    api_key = api_key,\n",
    "    azure_endpoint = api_endpoint,\n",
    "    api_version=\"2024-02-15-preview\"\n",
    ")"
   ]
  },
  {
   "cell_type": "code",
   "execution_count": 16,
   "id": "768b2144-8839-49e7-8626-c44b11baf379",
   "metadata": {},
   "outputs": [],
   "source": [
    "import openai\n",
    "\n",
    "class TranslationEngine:\n",
    "    CONTEXT = (\"preserving HTML structure: You are an assistant designed to translate texts of the \"\n",
    "               \"Woffu human resources software into different languages. Just translate the text \"\n",
    "               \"without comments and if you're not sure answer blank.\")\n",
    "\n",
    "    def __init__(self, client: openai.AzureOpenAI):\n",
    "        if client is None:\n",
    "            raise ValueError(\"client cannot be None\")\n",
    "        self.client = client\n",
    "\n",
    "    def translate(self, from_language: str, to_language: str, prompt: str) -> str:\n",
    "        messages = [\n",
    "            {\"role\": \"system\", \"content\": self.CONTEXT},\n",
    "            {\"role\": \"user\", \"content\": self.set_prompt(prompt, from_language, to_language)}\n",
    "        ]\n",
    "\n",
    "        response = self.client.chat.completions.create(\n",
    "            model= api_deploymentName, \n",
    "            messages=messages\n",
    "        )\n",
    "\n",
    "        if not response.choices:\n",
    "            return prompt\n",
    "\n",
    "        result = response.choices[0].message.content.strip().rstrip(\".\")\n",
    "        return result\n",
    "\n",
    "    @staticmethod\n",
    "    def set_prompt(value: str, from_language: str, to_language: str) -> str:\n",
    "        return f\"Translate this from {from_language} to {to_language}: {value}\"\n",
    "\n"
   ]
  },
  {
   "cell_type": "code",
   "execution_count": 17,
   "id": "488cea7d-54f2-45b1-80fc-3fc36073f416",
   "metadata": {},
   "outputs": [
    {
     "name": "stdout",
     "output_type": "stream",
     "text": [
      "Traducción: Hola, ¿cómo estás?\n"
     ]
    }
   ],
   "source": [
    "# Inicializar el motor de traducción\n",
    "translation_engine = TranslationEngine(client)\n",
    "\n",
    "# Traducir de inglés a español\n",
    "from_language = \"English\"\n",
    "to_language = \"Spanish\"\n",
    "text_to_translate = \"Hello, how are you?\"\n",
    "\n",
    "translated_text = translation_engine.translate(from_language, to_language, text_to_translate)\n",
    "\n",
    "print(\"Traducción:\", translated_text)"
   ]
  }
 ],
 "metadata": {
  "kernelspec": {
   "display_name": "Python 3 (ipykernel)",
   "language": "python",
   "name": "python3"
  },
  "language_info": {
   "codemirror_mode": {
    "name": "ipython",
    "version": 3
   },
   "file_extension": ".py",
   "mimetype": "text/x-python",
   "name": "python",
   "nbconvert_exporter": "python",
   "pygments_lexer": "ipython3",
   "version": "3.11.11"
  }
 },
 "nbformat": 4,
 "nbformat_minor": 5
}
