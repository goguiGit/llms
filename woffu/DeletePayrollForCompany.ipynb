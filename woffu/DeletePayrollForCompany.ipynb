{
 "cells": [
  {
   "cell_type": "markdown",
   "id": "2e5ea34f-3828-48fe-bcdb-132301684878",
   "metadata": {},
   "source": [
    "# Borrar Documentos - API\n",
    "\n",
    "Este script es responsable de eliminar documentos de un servidor remoto utilizando la API de un servicio web. \n",
    "\n",
    "Además, si se especifica, realiza una copia de seguridad del documento antes de eliminarlo.\n",
    "\n",
    "El script lee un archivo CSV con los IDs y nombres de los documentos a eliminar, y ejecuta la eliminación en base a esos datos.\n"
   ]
  },
  {
   "cell_type": "markdown",
   "id": "43b9c86a-9126-4d9d-bea0-aa1423d55d9a",
   "metadata": {},
   "source": [
    "### Lo primero que debemos hacer es obtener el token de la empresa\n"
   ]
  },
  {
   "cell_type": "code",
   "execution_count": 1,
   "id": "e25f15cf-c690-4e12-b180-7bd172c430bb",
   "metadata": {},
   "outputs": [],
   "source": [
    "# Imports\n",
    "import requests\n",
    "import csv\n",
    "import os\n",
    "import json\n",
    "from dotenv import load_dotenv"
   ]
  },
  {
   "cell_type": "code",
   "execution_count": 3,
   "id": "ba7bf88f-a7f7-40e2-a01c-bc2bc786f8cf",
   "metadata": {},
   "outputs": [],
   "source": [
    "# Cargar el token desde la configuracion\n",
    "load_dotenv(override=True)\n",
    "\n",
    "token = os.getenv('TOKEN_WOFFU')"
   ]
  },
  {
   "cell_type": "code",
   "execution_count": 4,
   "id": "1417aa82-b26f-40d1-b08f-fc3e4fb60af4",
   "metadata": {},
   "outputs": [
    {
     "name": "stdout",
     "output_type": "stream",
     "text": [
      "Token configurado correctamente.\n"
     ]
    }
   ],
   "source": [
    "if not token:\n",
    "  raise ValueError(\"El token no puede ser nulo o vacío\")\n",
    "else:\n",
    "    print (f\"Token configurado correctamente.\")\n"
   ]
  },
  {
   "cell_type": "markdown",
   "id": "18b6725c-fa4c-4dbe-90e2-2f4954653d7b",
   "metadata": {},
   "source": [
    "## Verificar que podemos conectarnos correctamente a la API\n",
    "\n",
    "- Request URL:\n",
    "    https://spacexfree.woffu.dev/api/companies/{CompanyId}/settings\n",
    "- Request Method:\n",
    "    GET\n"
   ]
  },
  {
   "cell_type": "code",
   "execution_count": 5,
   "id": "55053f3c-0f1c-411c-99ec-417861fb8a8f",
   "metadata": {},
   "outputs": [
    {
     "name": "stdout",
     "output_type": "stream",
     "text": [
      "Respuesta exitosa:\n",
      "{\n",
      "    \"$id\": \"1\",\n",
      "    \"CompanyId\": 79843,\n",
      "    \"DefaultRoleId\": 3,\n",
      "    \"HoursFormatted\": true,\n",
      "    \"UseDiary\": true,\n",
      "    \"UseFtp\": false,\n",
      "    \"WoffuBay\": false,\n",
      "    \"Benefits\": false,\n",
      "    \"UseSignByMotive\": false,\n",
      "    \"EndContractAction\": null,\n",
      "    \"UseComplaintChannel\": false,\n",
      "    \"ComplaintChannelTermsAndConditionsUrl\": null,\n",
      "    \"ConsumptionWoffuBay\": false\n",
      "}\n"
     ]
    }
   ],
   "source": [
    "# URL base\n",
    "base_url = \"https://spacexfree.woffu.dev\"\n",
    "\n",
    "# Endpoint específico de la API\n",
    "endpoint = \"/api/companies/79843/settings\"\n",
    "\n",
    "# Construir la URL completa combinando base_url y endpoint\n",
    "url = base_url + endpoint\n",
    "\n",
    "# Cabeceras de la solicitud, incluyendo el token\n",
    "headers = {\n",
    "    \"Authorization\": f\"Bearer {token}\",\n",
    "    \"Accept\": \"application/json\"  # Indica que esperamos recibir una respuesta en formato JSON\n",
    "}\n",
    "\n",
    "# Realizar la solicitud GET\n",
    "response = requests.get(url, headers=headers)\n",
    "\n",
    "# Comprobar el estado de la respuesta\n",
    "if response.status_code == 200:\n",
    "    # Si la respuesta es exitosa, convertir la respuesta JSON a un diccionario y mostrarla con formato\n",
    "    response_json = response.json()\n",
    "    print(f\"Respuesta exitosa:\")                \n",
    "    print(json.dumps(response_json, indent=4)) \n",
    "else:\n",
    "    # Si hubo un error en la solicitud, mostrar el código de estado\n",
    "    print(f\"Error {response.status_code}: {response.text}\")  "
   ]
  },
  {
   "cell_type": "markdown",
   "id": "195bddcd-77e7-491b-9654-6eb905914ab6",
   "metadata": {},
   "source": [
    "## Definir la fuctions para remover documentos de una empresa\n",
    "\n",
    "Datos necesarios:\n",
    "    - DocumentId\n",
    "    - DocumentName"
   ]
  },
  {
   "cell_type": "code",
   "execution_count": 6,
   "id": "61c6f843-4700-4389-93cd-8618ee92870f",
   "metadata": {},
   "outputs": [],
   "source": [
    "def remove_document(document_id, document_name, \n",
    "                    token, \n",
    "                    host_http=\"midatel.woffu.com\", \n",
    "                    url=\"https://midatel.woffu.com/api/documents/bulk/delete\", \n",
    "                    backup=True, \n",
    "                    backup_url=\"https://midatel.woffu.com/api/documents\"):\n",
    "    headers = {\n",
    "        \"sec-ch-ua-platform\": '\"Windows\"',\n",
    "        \"Authorization\": f\"Bearer {token}\",\n",
    "        \"Accept\": \"application/json, text/plain, */*\",\n",
    "        \"Content-Type\": \"application/json\",\n",
    "        \"sec-ch-ua-mobile\": \"?0\",\n",
    "        \"Sec-Fetch-Site\": \"same-origin\",\n",
    "        \"Sec-Fetch-Mode\": \"cors\",\n",
    "        \"Sec-Fetch-Dest\": \"empty\",\n",
    "        \"host\": host_http\n",
    "    }\n",
    "\n",
    "    body = {\n",
    "        \"ids\": [document_id],\n",
    "        \"unselectedIds\": [],\n",
    "        \"allDocuments\": False,\n",
    "        \"visible\": False,\n",
    "        \"tagId\": None\n",
    "    }\n",
    "\n",
    "    if backup:\n",
    "        print(f\"Backing up document: {document_name}\")\n",
    "        backup_url = f\"{backup_url}/{document_id}/download2\"\n",
    "        response = requests.get(backup_url, headers=headers)\n",
    "\n",
    "        # Guardar el archivo respaldado\n",
    "        backup_path = os.path.join(\"C:\\\\temp\\\\BackupFiles\", document_name)\n",
    "        with open(backup_path, 'wb') as file:\n",
    "            file.write(response.content)\n",
    "\n",
    "    # Realizar la eliminación del documento\n",
    "    response = requests.post(url, headers=headers, json=body)\n",
    "    \n",
    "    if response.status_code == 200:\n",
    "        print(f\"Document: {document_name} was successfully deleted.\")\n",
    "    else:\n",
    "        print(f\"Error deleting document: {document_name}. Status Code: {response.status_code}\")\n",
    "    print(\"************************************************\")\n",
    "\n",
    "\n"
   ]
  },
  {
   "cell_type": "code",
   "execution_count": 7,
   "id": "e30c1192-5be2-4e64-a99d-10ce9ea780fb",
   "metadata": {},
   "outputs": [
    {
     "name": "stdout",
     "output_type": "stream",
     "text": [
      "Backing up document: Facilita el registro de jornada de tu equipo con nuevos métodos de fichaje.png\n",
      "Error deleting document: Facilita el registro de jornada de tu equipo con nuevos métodos de fichaje.png. Status Code: 403\n",
      "************************************************\n"
     ]
    }
   ],
   "source": [
    "remove_document(188135,  \n",
    "                \"Facilita el registro de jornada de tu equipo con nuevos métodos de fichaje.png\", \n",
    "                token, \n",
    "                \"spacexfree.woffu.dev\",\n",
    "                \"https://spacexfree.woffu.dev/api/documents/bulk/delete\",\n",
    "                True,\n",
    "                \"https://spacexfree.woffu.dev/api/documents\")"
   ]
  }
 ],
 "metadata": {
  "kernelspec": {
   "display_name": "Python 3 (ipykernel)",
   "language": "python",
   "name": "python3"
  },
  "language_info": {
   "codemirror_mode": {
    "name": "ipython",
    "version": 3
   },
   "file_extension": ".py",
   "mimetype": "text/x-python",
   "name": "python",
   "nbconvert_exporter": "python",
   "pygments_lexer": "ipython3",
   "version": "3.11.11"
  }
 },
 "nbformat": 4,
 "nbformat_minor": 5
}
