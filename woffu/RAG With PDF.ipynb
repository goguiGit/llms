{
 "cells": [
  {
   "cell_type": "markdown",
   "id": "f65f3d1a-c207-48f1-b654-df32c63b5d65",
   "metadata": {},
   "source": [
    "## Import libraries\n"
   ]
  },
  {
   "cell_type": "code",
   "execution_count": 15,
   "id": "e92f73ad-642a-481b-aabe-a070595115cc",
   "metadata": {},
   "outputs": [],
   "source": [
    "# Import libraries\n",
    "# from langchain_community.vectorstores import Chroma\n",
    "from langchain_chroma import Chroma\n",
    "from langchain_community.document_loaders import PyPDFLoader\n",
    "# from langchain_community.chat_models import ChatOllama\n",
    "from langchain_ollama import ChatOllama\n",
    "from langchain_community.embeddings.fastembed import FastEmbedEmbeddings\n",
    "from langchain.text_splitter import RecursiveCharacterTextSplitter\n",
    "from langchain.prompts import PromptTemplate\n",
    "from langchain.chains.combine_documents import create_stuff_documents_chain\n",
    "\n",
    "import sys\n",
    "\n",
    "from dotenv import load_dotenv\n",
    "load_dotenv(override=True)\n",
    "token_huggingface_hub = os.getenv('TOKEN_HUGGINGFACE_HUB')"
   ]
  },
  {
   "cell_type": "markdown",
   "id": "b3c48d50-6123-49ce-8a7f-812cbcab6b0a",
   "metadata": {},
   "source": [
    "## Split the doucment into Chunks & Store them in Vector Store\n"
   ]
  },
  {
   "cell_type": "code",
   "execution_count": 16,
   "id": "dc1fd73b-b99a-469f-9bc2-03bba73fe063",
   "metadata": {},
   "outputs": [],
   "source": [
    "def ingest():\n",
    "    # Get the doc\n",
    "    loader = PyPDFLoader(\"docs\\Microsoft SQL Server 2012 T-SQL Fundamentals.pdf\")\n",
    "    pages = loader.load_and_split()\n",
    "    # Split the pages by char\n",
    "    text_splitter = RecursiveCharacterTextSplitter(\n",
    "        chunk_size=1024,\n",
    "        chunk_overlap=100,\n",
    "        length_function=len,\n",
    "        add_start_index=True,\n",
    "    )\n",
    "    chunks = text_splitter.split_documents(pages)\n",
    "    print(f\"Split {len(pages)} documents into {len(chunks)} chunks.\")\n",
    "    #\n",
    "    embedding = FastEmbedEmbeddings()\n",
    "    #Create vector store\n",
    "    Chroma.from_documents(documents=chunks,  embedding=embedding, persist_directory=\"./sql_chroma_db\")"
   ]
  },
  {
   "cell_type": "code",
   "execution_count": 17,
   "id": "53a581b9-67c9-4ca9-b7ee-09bf9a3777dd",
   "metadata": {},
   "outputs": [
    {
     "name": "stdout",
     "output_type": "stream",
     "text": [
      "Split 437 documents into 1172 chunks.\n"
     ]
    }
   ],
   "source": [
    "# only run this once to generate vector store\n",
    "ingest()"
   ]
  },
  {
   "cell_type": "code",
   "execution_count": 18,
   "id": "ec123d8e-55f6-4d57-9946-a1237340553d",
   "metadata": {},
   "outputs": [],
   "source": [
    "from huggingface_hub import login\n",
    "access_token_read = token_huggingface_hub\n",
    "access_token_write = token_huggingface_hub\n",
    "login(token = access_token_read)"
   ]
  },
  {
   "cell_type": "markdown",
   "id": "236419a2-2d6a-4bae-92ce-8c9a281a2658",
   "metadata": {},
   "source": [
    "## Create a RAG chain that retreives relevent chunks and prepares a response\n"
   ]
  },
  {
   "cell_type": "code",
   "execution_count": 26,
   "id": "5d6d46f1-3748-4b3d-941f-cc91c51d4ba2",
   "metadata": {},
   "outputs": [],
   "source": [
    "def rag_chain():\n",
    "    # 🧠 Inicializa el modelo de lenguaje local (LLM) usando Ollama con el modelo \"llama3.2\"\n",
    "    model = ChatOllama(model=\"llama3.2\")\n",
    "\n",
    "    # 📝 Define el prompt que se le dará al modelo. \n",
    "    # Indica que debe responder amigablemente y solo usando el contexto proporcionado.\n",
    "    prompt = PromptTemplate.from_template(\n",
    "        \"\"\"\n",
    "        <s> [Instructions] You are a friendly assistant. Answer the question based only on the following context. \n",
    "        If you don't know the answer, then reply, No Context available for this question {input}. [/Instructions] </s> \n",
    "        [Instructions] Question: {input} \n",
    "        Context: {context} \n",
    "        Answer: [/Instructions]\n",
    "        \"\"\"\n",
    "    )\n",
    "\n",
    "    # 🧊 Configura los embeddings para convertir texto a vectores (representaciones numéricas).\n",
    "    embedding = FastEmbedEmbeddings()\n",
    "\n",
    "    # 🗃️ Carga (o crea) la base de datos vectorial Chroma desde el disco.\n",
    "    # Se usará para hacer búsqueda semántica de los documentos.\n",
    "    vector_store = Chroma(persist_directory=\"./sql_chroma_db\", embedding_function=embedding)\n",
    "\n",
    "     # 🔍 Crea un recuperador (retriever) a partir de la base vectorial.\n",
    "    # Busca los documentos más similares al texto de entrada usando umbral de similitud.\n",
    "    retriever = vector_store.as_retriever(\n",
    "        search_type=\"similarity_score_threshold\",  # usa similitud + umbral\n",
    "        search_kwargs={\"k\": 3, \"score_threshold\": 0.5}, # trae hasta 3 resultados con score > 0.5\n",
    "    )\n",
    "\n",
    "    # 🔗 Crea una cadena de documentos que combina los documentos recuperados con el prompt.\n",
    "    document_chain = create_stuff_documents_chain(model, prompt)\n",
    "\n",
    "    # 🔄 Crea la cadena completa de RAG: recupera contexto + responde con el LLM.\n",
    "    chain = create_retrieval_chain(retriever, document_chain)\n",
    "\n",
    "    # 🚀 Devuelve la cadena para poder hacer preguntas con ella.\n",
    "    return chain\n"
   ]
  },
  {
   "cell_type": "code",
   "execution_count": 23,
   "id": "3ef7ceb0-140f-48c4-be76-73dcb8df9089",
   "metadata": {},
   "outputs": [],
   "source": [
    "def ask(query: str):\n",
    "    #\n",
    "    chain = rag_chain()\n",
    "    # invoke chain\n",
    "    result = chain.invoke({\"input\": query})\n",
    "    # print results\n",
    "    print(result[\"answer\"])\n",
    "    for doc in result[\"context\"]:\n",
    "        print(\"Source: \", doc.metadata[\"source\"])"
   ]
  },
  {
   "cell_type": "markdown",
   "id": "ca5b825a-2173-4a8c-9acf-a05834152a1e",
   "metadata": {},
   "source": [
    "## Ask Question to get relevant information from the document"
   ]
  },
  {
   "cell_type": "code",
   "execution_count": 24,
   "id": "8bb2f2e0-2451-4205-8d94-df694b6267f4",
   "metadata": {},
   "outputs": [
    {
     "name": "stdout",
     "output_type": "stream",
     "text": [
      "Single-table queries are queries that target a single table in a database, rather than multiple tables. They allow you to retrieve specific data from one or more columns within a table, based on certain conditions specified using predicates and operators.\n",
      "\n",
      "Some key concepts covered in this chapter include:\n",
      "\n",
      "* Logical query processing: the series of logical phases involved in producing the correct result set\n",
      "* Predicates and operators: used to filter data and specify conditions for retrieval\n",
      "* CASE expressions: used to perform conditional logic and return different values based on specific criteria\n",
      "* NULL marks: used to handle missing or null values in the data\n",
      "* All-at-once operations: used to retrieve all rows that meet a certain condition, rather than retrieving them individually\n",
      "* Manipulating character data: using functions like upper() and lower() to manipulate and compare character strings\n",
      "* Manipulating date and time data: using functions like GETDATE() and DATEADD() to perform arithmetic operations on dates\n",
      "* Querying metadata: using system views and functions to retrieve information about the database schema.\n",
      "\n",
      "This chapter provides a foundation for more advanced querying techniques, such as joining multiple tables and using subqueries.\n",
      "Source:  docs\\Microsoft SQL Server 2012 T-SQL Fundamentals.pdf\n",
      "Source:  docs\\Microsoft SQL Server 2012 T-SQL Fundamentals.pdf\n",
      "Source:  docs\\Microsoft SQL Server 2012 T-SQL Fundamentals.pdf\n"
     ]
    }
   ],
   "source": [
    "ask(\"tell me about single-table queries\")"
   ]
  }
 ],
 "metadata": {
  "kernelspec": {
   "display_name": "Python 3 (ipykernel)",
   "language": "python",
   "name": "python3"
  },
  "language_info": {
   "codemirror_mode": {
    "name": "ipython",
    "version": 3
   },
   "file_extension": ".py",
   "mimetype": "text/x-python",
   "name": "python",
   "nbconvert_exporter": "python",
   "pygments_lexer": "ipython3",
   "version": "3.11.11"
  }
 },
 "nbformat": 4,
 "nbformat_minor": 5
}
