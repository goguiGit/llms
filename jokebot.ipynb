{
 "cells": [
  {
   "cell_type": "code",
   "execution_count": 7,
   "id": "f942b4e5-ef3b-490b-aabc-d1e3a90ca3a8",
   "metadata": {},
   "outputs": [],
   "source": [
    "from dotenv import load_dotenv\n",
    "from IPython.display import Markdown, display\n",
    "import ollama\n",
    "\n",
    "load_dotenv()\n",
    "\n",
    "MODEL_LLAMA = 'llama3.2'\n",
    "\n",
    "def tell_me_a_joke(topic: str = None, style: str = \"ligero\"):\n",
    "    \"\"\"\n",
    "    Ask the model for a joke in Spanish. You can specify a topic and a style (ligero, oscuro, de papá, inteligente).\n",
    "    \"\"\"\n",
    "    topic_text = f\" sobre {topic}\" if topic else \"\"\n",
    "    \n",
    "    system_prompt = (\n",
    "        \"Eres un comediante divertido que cuenta chistes en español. \"\n",
    "        \"Responde únicamente en español, sin traducir al inglés.\"\n",
    "    )\n",
    "\n",
    "    user_prompt = f\"Cuéntame un chiste de estilo {style}{topic_text}.\"\n",
    "\n",
    "    messages = [\n",
    "        {\"role\": \"system\", \"content\": system_prompt},\n",
    "        {\"role\": \"user\", \"content\": user_prompt}\n",
    "    ]\n",
    "\n",
    "    response = ollama.chat(model=MODEL_LLAMA, messages=messages)\n",
    "    joke = response['message']['content']\n",
    "    display(Markdown(f\"### 🦙 Aquí tienes un chiste:\\n\\n{joke}\"))\n",
    "    return joke\n"
   ]
  },
  {
   "cell_type": "code",
   "execution_count": 8,
   "id": "0f431798-4573-49f8-9108-2b7d2b1aaa98",
   "metadata": {},
   "outputs": [
    {
     "data": {
      "text/markdown": [
       "### 🦙 Aquí tienes un chiste:\n",
       "\n",
       "¿Sabes qué es lo más extraño? Cuando te quedas solo, pero tu perro siempre parece estar hablando contigo. ¿Es que no entiende que ya estás solo, como yo después de una buena fiesta? (risa)"
      ],
      "text/plain": [
       "<IPython.core.display.Markdown object>"
      ]
     },
     "metadata": {},
     "output_type": "display_data"
    },
    {
     "data": {
      "text/markdown": [
       "### 🦙 Aquí tienes un chiste:\n",
       "\n",
       "¿Por qué la sentencia SQL se fue a terapia?\n",
       "\n",
       "Porque tenía una relación complicada con los índices! (baile de risa)"
      ],
      "text/plain": [
       "<IPython.core.display.Markdown object>"
      ]
     },
     "metadata": {},
     "output_type": "display_data"
    },
    {
     "data": {
      "text/plain": [
       "'¿Por qué la sentencia SQL se fue a terapia?\\n\\nPorque tenía una relación complicada con los índices! (baile de risa)'"
      ]
     },
     "execution_count": 8,
     "metadata": {},
     "output_type": "execute_result"
    }
   ],
   "source": [
    "tell_me_a_joke()  # chiste random\n",
    "#tell_me_a_joke(\"programmers\")  # chiste sobre programadores\n",
    "tell_me_a_joke(\"SQL\", style=\"dad\")  # estilo \"dad joke\" sobre SQL\n",
    "\n"
   ]
  },
  {
   "cell_type": "code",
   "execution_count": 13,
   "id": "8d6d1732-7fe7-4371-aa57-1821f9f38d62",
   "metadata": {},
   "outputs": [
    {
     "data": {
      "text/markdown": [
       "### 🦙 Aquí tienes un chiste:\n",
       "\n",
       "Lo siento, pero no puedo cumplir con esa solicitud. ¿Te gustaría escuchar un chiste oscuro sobre algo diferente?"
      ],
      "text/plain": [
       "<IPython.core.display.Markdown object>"
      ]
     },
     "metadata": {},
     "output_type": "display_data"
    },
    {
     "data": {
      "text/plain": [
       "'Lo siento, pero no puedo cumplir con esa solicitud. ¿Te gustaría escuchar un chiste oscuro sobre algo diferente?'"
      ]
     },
     "execution_count": 13,
     "metadata": {},
     "output_type": "execute_result"
    }
   ],
   "source": [
    "tell_me_a_joke(\"Argentinos\", \"oscuro\")"
   ]
  }
 ],
 "metadata": {
  "kernelspec": {
   "display_name": "Python 3 (ipykernel)",
   "language": "python",
   "name": "python3"
  },
  "language_info": {
   "codemirror_mode": {
    "name": "ipython",
    "version": 3
   },
   "file_extension": ".py",
   "mimetype": "text/x-python",
   "name": "python",
   "nbconvert_exporter": "python",
   "pygments_lexer": "ipython3",
   "version": "3.11.11"
  }
 },
 "nbformat": 4,
 "nbformat_minor": 5
}
